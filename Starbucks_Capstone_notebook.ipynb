{
 "cells": [
  {
   "cell_type": "markdown",
   "metadata": {},
   "source": [
    "# Starbucks Capstone Challenge\n",
    "\n",
    "### Introduction\n",
    "\n",
    "This data set contains simulated data that mimics customer behavior on the Starbucks rewards mobile app. Once every few days, Starbucks sends out an offer to users of the mobile app. An offer can be merely an advertisement for a drink or an actual offer such as a discount or BOGO (buy one get one free). Some users might not receive any offer during certain weeks. \n",
    "\n",
    "Not all users receive the same offer, and that is the challenge to solve with this data set.\n",
    "\n",
    "Your task is to combine transaction, demographic and offer data to determine which demographic groups respond best to which offer type. This data set is a simplified version of the real Starbucks app because the underlying simulator only has one product whereas Starbucks actually sells dozens of products.\n",
    "\n",
    "Every offer has a validity period before the offer expires. As an example, a BOGO offer might be valid for only 5 days. You'll see in the data set that informational offers have a validity period even though these ads are merely providing information about a product; for example, if an informational offer has 7 days of validity, you can assume the customer is feeling the influence of the offer for 7 days after receiving the advertisement.\n",
    "\n",
    "You'll be given transactional data showing user purchases made on the app including the timestamp of purchase and the amount of money spent on a purchase. This transactional data also has a record for each offer that a user receives as well as a record for when a user actually views the offer. There are also records for when a user completes an offer. \n",
    "\n",
    "Keep in mind as well that someone using the app might make a purchase through the app without having received an offer or seen an offer.\n",
    "\n",
    "### Example\n",
    "\n",
    "To give an example, a user could receive a discount offer buy 10 dollars get 2 off on Monday. The offer is valid for 10 days from receipt. If the customer accumulates at least 10 dollars in purchases during the validity period, the customer completes the offer.\n",
    "\n",
    "However, there are a few things to watch out for in this data set. Customers do not opt into the offers that they receive; in other words, a user can receive an offer, never actually view the offer, and still complete the offer. For example, a user might receive the \"buy 10 dollars get 2 dollars off offer\", but the user never opens the offer during the 10 day validity period. The customer spends 15 dollars during those ten days. There will be an offer completion record in the data set; however, the customer was not influenced by the offer because the customer never viewed the offer.\n",
    "\n",
    "### Cleaning\n",
    "\n",
    "This makes data cleaning especially important and tricky.\n",
    "\n",
    "You'll also want to take into account that some demographic groups will make purchases even if they don't receive an offer. From a business perspective, if a customer is going to make a 10 dollar purchase without an offer anyway, you wouldn't want to send a buy 10 dollars get 2 dollars off offer. You'll want to try to assess what a certain demographic group will buy when not receiving any offers.\n",
    "\n",
    "### Final Advice\n",
    "\n",
    "Because this is a capstone project, you are free to analyze the data any way you see fit. For example, you could build a machine learning model that predicts how much someone will spend based on demographics and offer type. Or you could build a model that predicts whether or not someone will respond to an offer. Or, you don't need to build a machine learning model at all. You could develop a set of heuristics that determine what offer you should send to each customer (i.e., 75 percent of women customers who were 35 years old responded to offer A vs 40 percent from the same demographic to offer B, so send offer A)."
   ]
  },
  {
   "cell_type": "markdown",
   "metadata": {},
   "source": [
    "# Data Sets\n",
    "\n",
    "The data is contained in three files:\n",
    "\n",
    "* portfolio.json - containing offer ids and meta data about each offer (duration, type, etc.)\n",
    "* profile.json - demographic data for each customer\n",
    "* transcript.json - records for transactions, offers received, offers viewed, and offers completed\n",
    "\n",
    "Here is the schema and explanation of each variable in the files:\n",
    "\n",
    "**portfolio.json**\n",
    "* id (string) - offer id\n",
    "* offer_type (string) - type of offer ie BOGO, discount, informational\n",
    "* difficulty (int) - minimum required spend to complete an offer\n",
    "* reward (int) - reward given for completing an offer\n",
    "* duration (int) - time for offer to be open, in days\n",
    "* channels (list of strings)\n",
    "\n",
    "**profile.json**\n",
    "* age (int) - age of the customer \n",
    "* became_member_on (int) - date when customer created an app account\n",
    "* gender (str) - gender of the customer (note some entries contain 'O' for other rather than M or F)\n",
    "* id (str) - customer id\n",
    "* income (float) - customer's income\n",
    "\n",
    "**transcript.json**\n",
    "* event (str) - record description (ie transaction, offer received, offer viewed, etc.)\n",
    "* person (str) - customer id\n",
    "* time (int) - time in hours since start of test. The data begins at time t=0\n",
    "* value - (dict of strings) - either an offer id or transaction amount depending on the record\n",
    "\n",
    "**Note:** If you are using the workspace, you will need to go to the terminal and run the command `conda update pandas` before reading in the files. This is because the version of pandas in the workspace cannot read in the transcript.json file correctly, but the newest version of pandas can. You can access the termnal from the orange icon in the top left of this notebook.  \n",
    "\n",
    "You can see how to access the terminal and how the install works using the two images below.  First you need to access the terminal:\n",
    "\n",
    "<img src=\"pic1.png\"/>\n",
    "\n",
    "Then you will want to run the above command:\n",
    "\n",
    "<img src=\"pic2.png\"/>\n",
    "\n",
    "Finally, when you enter back into the notebook (use the jupyter icon again), you should be able to run the below cell without any errors."
   ]
  },
  {
   "cell_type": "code",
   "execution_count": 557,
   "metadata": {},
   "outputs": [],
   "source": [
    "import pandas as pd\n",
    "import numpy as np\n",
    "import math\n",
    "import json\n",
    "import seaborn as sns\n",
    "import matplotlib.pyplot as plt\n",
    "import datetime\n",
    "\n",
    "from sklearn import preprocessing\n",
    "from sklearn.model_selection import train_test_split, GridSearchCV, RandomizedSearchCV,cross_val_score, learning_curve\n",
    "from sklearn.ensemble import RandomForestClassifier, AdaBoostClassifier, GradientBoostingClassifier\n",
    "from sklearn.metrics import accuracy_score, classification_report, confusion_matrix, roc_auc_score\n",
    "\n",
    "# % matplotlib inline\n",
    "\n",
    "data_path = 'data'\n",
    "\n",
    "# read in the json files\n",
    "portfolio_df = pd.read_json(f'{data_path}/portfolio.json', orient='records', lines=True)\n",
    "profile_df = pd.read_json(f'{data_path}/profile.json', orient='records', lines=True)\n",
    "transcript_df = pd.read_json(f'{data_path}/transcript.json', orient='records', lines=True)"
   ]
  },
  {
   "cell_type": "markdown",
   "metadata": {},
   "source": [
    "## Data Exploration"
   ]
  },
  {
   "cell_type": "markdown",
   "metadata": {},
   "source": [
    "### Portfolio"
   ]
  },
  {
   "cell_type": "code",
   "execution_count": null,
   "metadata": {},
   "outputs": [],
   "source": [
    "portfolio_df.head()"
   ]
  },
  {
   "cell_type": "code",
   "execution_count": null,
   "metadata": {},
   "outputs": [],
   "source": [
    "unique_offers_count = portfolio_df['id'].nunique()\n",
    "print(f\"The portfolio contains {unique_offers_count} distinct offers.\")\n",
    "\n",
    "print(\"Distribution of the offers:\")\n",
    "offer_type_distribution = portfolio_df.offer_type.value_counts()\n",
    "print(offer_type_distribution)\n"
   ]
  },
  {
   "cell_type": "markdown",
   "metadata": {},
   "source": [
    "The various channels and offer types require distinct representation for analysis. Therefore, it is necessary to convert categorical variables into indicator variables"
   ]
  },
  {
   "cell_type": "code",
   "execution_count": null,
   "metadata": {},
   "outputs": [],
   "source": [
    "# Convert categorical variables into indicator variables for channels\n",
    "channel_dummies = pd.get_dummies(portfolio_df['channels'].apply(pd.Series).stack()).sum(level=0)\n",
    "portfolio_df = pd.concat([portfolio_df, channel_dummies], axis=1)\n",
    "\n",
    "# Drop the 'channels' column\n",
    "portfolio_df.drop(columns=['channels'], inplace=True)\n",
    "\n",
    "# Create a new 'offer' column with concatenated information\n",
    "portfolio_df['offer'] = (portfolio_df['offer_type'] + \"_\" + portfolio_df['reward'].astype(str) +\n",
    "                      \"_for_\" + portfolio['difficulty'].astype(str) + \"_in_\" +\n",
    "                      portfolio_df['duration'].astype(str) + \"days\")\n",
    "\n",
    "portfolio_df.head()"
   ]
  },
  {
   "cell_type": "code",
   "execution_count": null,
   "metadata": {},
   "outputs": [],
   "source": [
    "# Convert offer types into indicator variables\n",
    "offer_type_dummies = pd.get_dummies(portfolio_df['offer_type'])\n",
    "portfolio_df = pd.concat([portfolio_df, offer_type_dummies], axis=1)\n",
    "\n",
    "# Rename the 'id' column to 'offer_id'\n",
    "portfolio_df.rename(columns={'id': 'offer_id'}, inplace=True)\n",
    "\n",
    "portfolio_df\n"
   ]
  },
  {
   "cell_type": "markdown",
   "metadata": {},
   "source": [
    "## Profile"
   ]
  },
  {
   "cell_type": "code",
   "execution_count": null,
   "metadata": {},
   "outputs": [],
   "source": [
    "profile_df.head()"
   ]
  },
  {
   "cell_type": "markdown",
   "metadata": {},
   "source": [
    "For some entries, the age is  118, which doesn't seem to be plausible.\n",
    "Also there are some NaN values. First, the NaN values will be dropped, before I take a closer look at the age distribution."
   ]
  },
  {
   "cell_type": "code",
   "execution_count": null,
   "metadata": {},
   "outputs": [],
   "source": [
    "nan_count = profile_df.isna().sum().sum()\n",
    "print(\"Number of NaN values in profile_df:\", nan_count)"
   ]
  },
  {
   "cell_type": "code",
   "execution_count": null,
   "metadata": {},
   "outputs": [],
   "source": [
    "profile_df.dropna(inplace=True)"
   ]
  },
  {
   "cell_type": "markdown",
   "metadata": {},
   "source": [
    "Let's have a look how the age is distributed and if the age values are plausible"
   ]
  },
  {
   "cell_type": "code",
   "execution_count": null,
   "metadata": {},
   "outputs": [],
   "source": [
    "# Create histogram using Seaborn\n",
    "sns.histplot(profile_df['age'], bins=50, kde=True)  # Adjust bins and kde as needed\n",
    "plt.title('Distribution of Age in profule dataset')\n",
    "plt.xlabel('Age')\n",
    "plt.ylabel('Frequency')\n",
    "plt.show()"
   ]
  },
  {
   "cell_type": "code",
   "execution_count": null,
   "metadata": {},
   "outputs": [],
   "source": [
    "profile_df['age'].max(), profile_df['age'].min()"
   ]
  },
  {
   "cell_type": "markdown",
   "metadata": {},
   "source": [
    "The age distribution and maximum and minumum age look plausible now."
   ]
  },
  {
   "cell_type": "markdown",
   "metadata": {},
   "source": [
    "The following steps will be carried out with the next section of Code:\n",
    "\n",
    "* Rename the 'id' column to 'customer_id' and reorder columns\n",
    "* Calculate membership duration\n",
    "* Drop the 'became_member_on' column if membership duration has been calculated\n",
    "* Reset index and display the DataFrame"
   ]
  },
  {
   "cell_type": "code",
   "execution_count": null,
   "metadata": {},
   "outputs": [],
   "source": [
    "# Rename the 'id' column to 'customer_id' and reorder columns\n",
    "profile_df = profile_df.rename(columns={'id': 'customer_id'})\n",
    "columns_order = ['customer_id', 'gender', 'age', 'income', 'became_member_on']\n",
    "profile_df = profile_df.reindex(columns=columns_order)\n",
    "\n",
    "# Calculate membership duration\n",
    "profile_df['became_member_on'] = pd.to_datetime(profile_df['became_member_on'], format='%Y%m%d')\n",
    "profile_df['membership_duration_days'] = (datetime.datetime.today().date() - profile_df['became_member_on'].dt.date).dt.days\n",
    "\n",
    "# Drop the 'became_member_on' column if membership duration has been calculated\n",
    "columns_order.append('membership_duration_days')\n",
    "profile_df = profile_df.reindex(columns=columns_order)\n",
    "\n",
    "# Reset index and display the DataFrame\n",
    "profile_df = profile_df.reset_index(drop=True)\n",
    "profile_df.head()"
   ]
  },
  {
   "cell_type": "markdown",
   "metadata": {},
   "source": [
    "## Transcript"
   ]
  },
  {
   "cell_type": "code",
   "execution_count": null,
   "metadata": {},
   "outputs": [],
   "source": [
    "transcript_df.head()"
   ]
  },
  {
   "cell_type": "code",
   "execution_count": null,
   "metadata": {},
   "outputs": [],
   "source": [
    "transcript_df.info()"
   ]
  },
  {
   "cell_type": "code",
   "execution_count": null,
   "metadata": {},
   "outputs": [],
   "source": [
    "# value counts of transcations\n",
    "transcript_df['event'].value_counts()"
   ]
  },
  {
   "cell_type": "markdown",
   "metadata": {},
   "source": [
    "Filtering Transcript Data Based on Customer IDs Present in Profile Data"
   ]
  },
  {
   "cell_type": "code",
   "execution_count": null,
   "metadata": {},
   "outputs": [],
   "source": [
    "# Filtering Transcript Data Based on Customer IDs Present in Profile Data\n",
    "\n",
    "# Filter transcript data based on customer IDs present in profile data\n",
    "transcript_df = transcript_df[transcript_df['person'].isin(profile_df['customer_id'])]\n",
    "\n",
    "# Print the length of the filtered transcript dataframe\n",
    "print(\"Length of filtered transcript dataframe:\", len(transcript_df))\n",
    "\n",
    "# Display the first few rows of the filtered transcript dataframe\n",
    "transcript_df.head()\n"
   ]
  },
  {
   "cell_type": "markdown",
   "metadata": {},
   "source": [
    "Creating DataFrame with Details of Customer IDs and Amount Spent by Each Customer"
   ]
  },
  {
   "cell_type": "code",
   "execution_count": null,
   "metadata": {},
   "outputs": [],
   "source": [
    "# Creating DataFrame with Details of Customer IDs and Amount Spent by Each Customer\n",
    "\n",
    "# Filter transcript data for transactions\n",
    "df_trans = transcript_df[transcript_df['event'] == 'transaction']\n",
    "\n",
    "# Create DataFrame for amount spent by each customer\n",
    "customer_spending_df = pd.DataFrame(data=df_trans)\n",
    "\n",
    "# Drop unnecessary columns\n",
    "customer_spending_df = customer_spending_df.drop(['value', 'event'], axis=1)\n",
    "\n",
    "# Extract amount from the 'value' column\n",
    "customer_spending_df['amount'] = df_trans['value'].apply(lambda x: list(x.values())[0])\n",
    "\n",
    "# Rename the 'person' column to 'customer_id'\n",
    "customer_spending_df = customer_spending_df.rename(columns={'person': 'customer_id'})\n",
    "\n",
    "# Merge with profile DataFrame to include gender information\n",
    "customer_spending_df = pd.merge(customer_spending_df, profile_df[['gender', 'customer_id']], how='left', on='customer_id')\n",
    "\n",
    "# Reset index\n",
    "customer_spending_df = customer_spending_df.reset_index(drop=True)\n",
    "\n",
    "# Display the first few rows of the customer_spending_df dataframe\n",
    "customer_spending_df.head()"
   ]
  },
  {
   "cell_type": "markdown",
   "metadata": {},
   "source": [
    "This code analyzes customer spending habits based on gender. It calculates the average amount spent per transaction for each gender category (male, female, other) using data from the 'customer_spending_df' DataFrame. The results are visualized using a bar plot to compare the average spending across different gender groups."
   ]
  },
  {
   "cell_type": "code",
   "execution_count": null,
   "metadata": {},
   "outputs": [],
   "source": [
    "# Group by gender\n",
    "gender_groupby = customer_spending_df.groupby('gender')\n",
    "\n",
    "# Calculate total amount spent and total number of transactions by gender\n",
    "gender_expense = gender_groupby.amount.sum()\n",
    "gender_transactions = gender_groupby.size()\n",
    "\n",
    "# Calculate average amount spent per transaction for each gender\n",
    "average_spending_per_transaction = gender_expense / gender_transactions\n",
    "\n",
    "# Plot the average amount spent per transaction by gender using Seaborn\n",
    "plt.figure(figsize=(8, 6))\n",
    "sns.barplot(x=average_spending_per_transaction.index, y=average_spending_per_transaction.values, palette='muted')\n",
    "\n",
    "# Label the plot\n",
    "plt.title('Average Amount Spent per Transaction by Gender')\n",
    "plt.xlabel('Gender')\n",
    "plt.ylabel('Average Amount Spent per Transaction')\n",
    "plt.show()"
   ]
  },
  {
   "cell_type": "markdown",
   "metadata": {},
   "source": [
    "It can be seen that from all genders, women spend most per transaction."
   ]
  },
  {
   "cell_type": "markdown",
   "metadata": {},
   "source": [
    "Let's see which genders spends the most money in total:"
   ]
  },
  {
   "cell_type": "code",
   "execution_count": null,
   "metadata": {},
   "outputs": [],
   "source": [
    "# Calculate total spending for each gender\n",
    "total_spending_by_gender = gender_groupby.amount.sum()\n",
    "\n",
    "# Find the gender with the highest total spending\n",
    "highest_spending_gender = total_spending_by_gender.idxmax()\n",
    "\n",
    "# Print the result\n",
    "print(f\"The gender that spends the most money is: {highest_spending_gender} (Total spending: ${total_spending_by_gender[highest_spending_gender]:.2f})\")"
   ]
  },
  {
   "cell_type": "markdown",
   "metadata": {},
   "source": [
    "The following code unpacks information stored within the 'value' column of the 'transcript_df' DataFrame into separate columns ('offer_id', 'amount', 'reward'). It replaces missing values in the 'offer_id' column and removes redundant columns ('value', 'offer id'). The result is a DataFrame with unpacked information for further analysis."
   ]
  },
  {
   "cell_type": "code",
   "execution_count": null,
   "metadata": {},
   "outputs": [],
   "source": [
    "\n",
    "# Expand the 'value' column into separate columns and merge with the original DataFrame\n",
    "\n",
    "# First, expand the 'value' column into separate columns\n",
    "expanded_values = transcript_df['value'].apply(lambda x: pd.Series(x))\n",
    "\n",
    "# Next, we handle the 'offer id' and 'offer_id' overlap by checking for their existence and combining them into one\n",
    "expanded_values['offer_id'] = expanded_values.get('offer_id').fillna(expanded_values.get('offer id'))\n",
    "# Drop the 'offer id' column if it exists, as its information is now merged into 'offer_id'\n",
    "expanded_values.drop(columns=['offer id'], errors='ignore', inplace=True)\n",
    "\n",
    "# Now, drop the original 'value' column from the transcript DataFrame to avoid duplication when merging\n",
    "transcript_df.drop(columns=['value'], inplace=True)\n",
    "\n",
    "# Finally, concatenate the modified expanded_values DataFrame with the original transcript DataFrame\n",
    "transcript_df = pd.concat([transcript_df, expanded_values], axis=1)\n",
    "\n",
    "transcript_df.head()"
   ]
  },
  {
   "cell_type": "markdown",
   "metadata": {},
   "source": [
    "In the next code segment, I focus on refining our dataset to better understand customer interactions with received offers. I want to calculate the total number of offers each customer receives, convert event types into easily analyzable formats, and streamline our dataset by adjusting column names and removing extraneous information."
   ]
  },
  {
   "cell_type": "code",
   "execution_count": null,
   "metadata": {},
   "outputs": [],
   "source": [
    "# Count the number of offers received per person and merge with the original DataFrame\n",
    "offers_received = transcript_df[transcript_df['event'] == 'offer received'].groupby('person')['event'].size().reset_index(name='num_offers_received')\n",
    "transcript_df = transcript_df.merge(offers_received, how='left', on='person')\n",
    "\n",
    "# Convert 'event' categories into indicator variables and merge with the original DataFrame\n",
    "transcript_df = pd.concat([transcript_df, pd.get_dummies(transcript_df['event'], prefix='event')], axis=1)\n",
    "\n",
    "# Drop unnecessary columns and rename 'person' to 'customer_id'\n",
    "transcript_df.drop(columns=['offer id', 'value', 'reward'], errors='ignore', inplace=True)\n",
    "transcript_df.rename(columns={'person': 'customer_id'}, inplace=True)\n",
    "\n",
    "# Display the first three rows to verify changes\n",
    "transcript_df.head()\n"
   ]
  },
  {
   "cell_type": "markdown",
   "metadata": {},
   "source": [
    "Merge transcript and portfolio dataframes to create a more comprehensive dataset for analysis."
   ]
  },
  {
   "cell_type": "code",
   "execution_count": null,
   "metadata": {},
   "outputs": [],
   "source": [
    "combined_df = pd.merge(transcript_df, portfolio_df, on='offer_id', how='left')"
   ]
  },
  {
   "cell_type": "markdown",
   "metadata": {},
   "source": [
    "Plotting the distribution of Events by Offer Type"
   ]
  },
  {
   "cell_type": "code",
   "execution_count": null,
   "metadata": {},
   "outputs": [],
   "source": [
    "# prepare the data by counting occurrences for plotting\n",
    "event_counts = combined_df[combined_df['event'] != 'transaction'].groupby(['offer_type', 'event'])['customer_id'].count().reset_index()\n",
    "\n",
    "# Use barplot to visualize the data\n",
    "plt.figure(figsize=(12, 8))  # Adjust figure size for better visibility\n",
    "sns.barplot(data=event_counts, x='offer_type', y='customer_id', hue='event', palette='coolwarm')\n",
    "\n",
    "# Enhancements for readability\n",
    "plt.xlabel('Offer Type', fontsize=14)  # Label for x-axis\n",
    "plt.ylabel('Count', fontsize=14)  # Label for y-axis\n",
    "plt.title('Distribution of Events by Offer Type', fontsize=16)  # Title for the plot\n",
    "plt.legend(title='Event Type')  # Legend with title\n",
    "\n",
    "# Adding annotations to each bar for clarity\n",
    "for p in plt.gca().patches:\n",
    "    plt.gca().annotate(format(p.get_height(), '.0f'), \n",
    "                       (p.get_x() + p.get_width() / 2., p.get_height()), \n",
    "                       ha = 'center', va = 'center', \n",
    "                       xytext = (0, 10), \n",
    "                       textcoords = 'offset points')\n",
    "\n",
    "plt.tight_layout()\n",
    "plt.show()"
   ]
  },
  {
   "cell_type": "code",
   "execution_count": null,
   "metadata": {},
   "outputs": [],
   "source": [
    "combined_df.head()"
   ]
  },
  {
   "cell_type": "code",
   "execution_count": null,
   "metadata": {},
   "outputs": [],
   "source": [
    "combined_df = combined_df.rename(columns={\n",
    "    'num_offers_received': 'num_offers',\n",
    "    'event_offer completed': 'offer completed',\n",
    "    'event_offer received': 'offer received',\n",
    "    'event_offer viewed': 'offer viewed',\n",
    "    'event_transaction': 'transaction'\n",
    "})"
   ]
  },
  {
   "cell_type": "code",
   "execution_count": null,
   "metadata": {},
   "outputs": [],
   "source": [
    "combined_df.columns"
   ]
  },
  {
   "cell_type": "markdown",
   "metadata": {},
   "source": [
    "## Data Preparation"
   ]
  },
  {
   "cell_type": "markdown",
   "metadata": {},
   "source": [
    "To optimize the effectiveness of the predictive model, the current dataset requires further refinement. While initial data cleaning has been conducted, the dataset is not yet in a state suitable for modeling purposes.\n",
    "\n",
    "A new column will be introduced to delineate which instances in the dataset represent successful outcomes. Given that BOGO and discount offers are marked by 'offer completed' events, whereas informational offers lack such markers, it's necessary to prepare the datasets for each offer type distinctly, starting with BOGO and discount offers.\n",
    "\n",
    "### BOGO and Discount Offers Analysis\n",
    "Typically, the journey of BOGO and discount offers through the system can follow one of these scenarios:\n",
    "\n",
    "1. **Successful offer completion**: The sequence of offer received → offer viewed → one or more transactions → offer completed, signifies a fully successful engagement, which is the desired result.\n",
    "2. **Viewed but ineffective offer**: Here, an offer is received and viewed, but does not lead to any transaction.\n",
    "3. **Offer ignored**: The offer is received but not even viewed.\n",
    "4. **Completion without view**: The offer is received, and, without being viewed, transactions are made, and the offer is completed.\n",
    "\n",
    "A scenario where the offer is viewed and leads to a completed transaction is the optimal path, indicating a desired and effective interaction. Scenarios indicating the offer was viewed but did not result in a transaction, or the offer was never viewed, represent unsuccessful engagements. These are considered as the offer failing to motivate the customer towards making a purchase. However, instances where offers are completed without being viewed also need to be distinguished. These instances suggest that purchases would have occurred irrespective of the offer's presence, highlighting a distinct customer behavior pattern.\n",
    "\n",
    "It's crucial to distinguish between these outcomes, particularly separating those who complete offers without viewing them from those who follow the full path of viewing and completing offers. Such differentiation aids in accurately targeting the right consumer segments.\n",
    "\n",
    "Starbucks would ideally focus its efforts on customers who complete offers after viewing them, as this indicates a direct influence of the offer on customer behavior. Conversely, efforts might be less effective on customers who tend to complete offers without viewing them or do not respond to offers, as this indicates either an innate likelihood to purchase or a disinterest in promotions, making discounts or BOGO offers less economically viable for Starbucks.\n"
   ]
  },
  {
   "cell_type": "code",
   "execution_count": 401,
   "metadata": {},
   "outputs": [],
   "source": [
    "def offer_completion_evaluation(df):\n",
    "    \"\"\"\n",
    "    Evaluates offer completion effectiveness from the provided DataFrame.\n",
    "\n",
    "    This function processes the input DataFrame to determine the success,\n",
    "    unviewed success, and failure of offers based on event types. It then merges \n",
    "    additional information from portfolio and profile data, and assigns outcome \n",
    "    categories and factors to each offer.\n",
    "\n",
    "    Parameters:\n",
    "    df (DataFrame): Input DataFrame containing offer events.\n",
    "\n",
    "    Returns:\n",
    "    DataFrame: A DataFrame with offers classified into success, unviewed success,\n",
    "    or failure, merged with portfolio and profile information, and including \n",
    "    an outcome factor.\n",
    "    \"\"\"\n",
    "    \n",
    "    # Disable warning for chained assignment to allow inplace operations without interruption.\n",
    "    pd.options.mode.chained_assignment = None\n",
    "\n",
    "    # Filter and sort offers based on viewing and completion.\n",
    "    offers_completed = df[['customer_id', 'event', 'time', 'offer_id', 'num_offers']]\\\n",
    "                        .query(\"event in ['offer viewed', 'offer completed']\")\\\n",
    "                        .sort_values(by=['customer_id', 'time'])\n",
    "\n",
    "    # Shift offer_id to the next row within each group for comparison.\n",
    "    offers_completed['previous_offer_id'] = offers_completed.groupby(['customer_id', 'offer_id'])['offer_id'].shift()\n",
    "\n",
    "    # Define success based on completion of the viewed offer.\n",
    "    offers_completed['success'] = ((offers_completed['event'] == 'offer completed') & \n",
    "                                   (offers_completed['previous_offer_id'] == offers_completed['offer_id'])).astype(int)\n",
    "\n",
    "    # Define unviewed success if an offer is completed without a prior view.\n",
    "    offers_completed['unviewed_success'] = ((offers_completed['event'] == 'offer completed') &\n",
    "                                            (offers_completed['previous_offer_id'].isna())).astype(int)\n",
    "\n",
    "    # Clean up by dropping the auxiliary column.\n",
    "    offers_completed.drop(['previous_offer_id'], axis=1, inplace=True)\n",
    "\n",
    "    # Select and sort received offers.\n",
    "    received_offers = df.loc[df['event'] == 'offer received', ['customer_id', 'event', 'time', 'offer_id', 'num_offers']]\\\n",
    "                        .sort_values(by=['customer_id', 'time'])\n",
    "\n",
    "    # Combine received with viewed and completed offers.\n",
    "    together = received_offers.append(offers_completed).sort_values(by=['customer_id', 'time'])\n",
    "\n",
    "    # Filter combined DataFrame for success analysis.\n",
    "    successes = together.query(\"event in ['offer received', 'offer completed']\")\n",
    "\n",
    "    # Backfill success indicators for a coherent success analysis.\n",
    "    for col in ['success', 'unviewed_success']:\n",
    "        successes[col] = successes.groupby(['customer_id', 'offer_id'])[col].bfill()\n",
    "\n",
    "    # Focus on received offers for final analysis.\n",
    "    result = successes.query(\"event == 'offer received'\")\n",
    "\n",
    "    # Classify offers without success or unviewed success as failures.\n",
    "    result['failure'] = ((result['success'].isna()) & (result['unviewed_success'].isna())).astype(int)\n",
    "    result['success'] = result['success'].fillna(0).astype(int)\n",
    "    result['unviewed_success'] = result['unviewed_success'].fillna(0).astype(int)\n",
    "\n",
    "    # Define conditions and choices for offer outcome classification.\n",
    "    conditions = [result['success'] == 1, result['unviewed_success'] == 1]\n",
    "    choices = ['success', 'unviewed success']\n",
    "    \n",
    "    # Assign outcome labels based on conditions.\n",
    "    result['outcome'] = np.select(conditions, choices, default='failure')\n",
    "\n",
    "    # Map outcome labels to numerical factors for analysis.\n",
    "    result['outcome_factor'] = result['outcome'].replace({'failure': 0, 'unviewed success': 1, 'success': 2})\n",
    "\n",
    "    # Merge additional customer and offer information, dropping unnecessary columns.\n",
    "    combined = (result.merge(portfolio_df, on='offer_id', how='left')\n",
    "                      .merge(profile_df, on='customer_id', how='left')\n",
    "                      .drop(columns=['event', 'became_member_on']))\n",
    "\n",
    "    # Re-enable chained assignment warning.\n",
    "    pd.options.mode.chained_assignment = \"warn\"\n",
    "\n",
    "    return combined\n"
   ]
  },
  {
   "cell_type": "code",
   "execution_count": 517,
   "metadata": {},
   "outputs": [
    {
     "data": {
      "text/html": [
       "<div>\n",
       "<style scoped>\n",
       "    .dataframe tbody tr th:only-of-type {\n",
       "        vertical-align: middle;\n",
       "    }\n",
       "\n",
       "    .dataframe tbody tr th {\n",
       "        vertical-align: top;\n",
       "    }\n",
       "\n",
       "    .dataframe thead th {\n",
       "        text-align: right;\n",
       "    }\n",
       "</style>\n",
       "<table border=\"1\" class=\"dataframe\">\n",
       "  <thead>\n",
       "    <tr style=\"text-align: right;\">\n",
       "      <th></th>\n",
       "      <th>customer_id</th>\n",
       "      <th>time</th>\n",
       "      <th>offer_id</th>\n",
       "      <th>num_offers</th>\n",
       "      <th>success</th>\n",
       "      <th>unviewed_success</th>\n",
       "      <th>failure</th>\n",
       "      <th>outcome</th>\n",
       "      <th>outcome_factor</th>\n",
       "      <th>reward</th>\n",
       "      <th>...</th>\n",
       "      <th>social</th>\n",
       "      <th>web</th>\n",
       "      <th>offer</th>\n",
       "      <th>bogo</th>\n",
       "      <th>discount</th>\n",
       "      <th>informational</th>\n",
       "      <th>gender</th>\n",
       "      <th>age</th>\n",
       "      <th>income</th>\n",
       "      <th>membership_duration_days</th>\n",
       "    </tr>\n",
       "  </thead>\n",
       "  <tbody>\n",
       "    <tr>\n",
       "      <th>0</th>\n",
       "      <td>0009655768c64bdeb2e877511632db8f</td>\n",
       "      <td>408</td>\n",
       "      <td>f19421c1d4aa40978ebb69ca19b0e20d</td>\n",
       "      <td>5.0</td>\n",
       "      <td>0</td>\n",
       "      <td>1</td>\n",
       "      <td>0</td>\n",
       "      <td>unviewed success</td>\n",
       "      <td>1</td>\n",
       "      <td>5</td>\n",
       "      <td>...</td>\n",
       "      <td>1</td>\n",
       "      <td>1</td>\n",
       "      <td>bogo_5_for_5_in_5days</td>\n",
       "      <td>1</td>\n",
       "      <td>0</td>\n",
       "      <td>0</td>\n",
       "      <td>M</td>\n",
       "      <td>33</td>\n",
       "      <td>72000.0</td>\n",
       "      <td>2532</td>\n",
       "    </tr>\n",
       "    <tr>\n",
       "      <th>1</th>\n",
       "      <td>0011e0d4e6b944f998e987f904e8c1e5</td>\n",
       "      <td>504</td>\n",
       "      <td>9b98b8c7a33c4b65b9aebfe6a799e6d9</td>\n",
       "      <td>5.0</td>\n",
       "      <td>1</td>\n",
       "      <td>0</td>\n",
       "      <td>0</td>\n",
       "      <td>success</td>\n",
       "      <td>2</td>\n",
       "      <td>5</td>\n",
       "      <td>...</td>\n",
       "      <td>0</td>\n",
       "      <td>1</td>\n",
       "      <td>bogo_5_for_5_in_7days</td>\n",
       "      <td>1</td>\n",
       "      <td>0</td>\n",
       "      <td>0</td>\n",
       "      <td>O</td>\n",
       "      <td>40</td>\n",
       "      <td>57000.0</td>\n",
       "      <td>2269</td>\n",
       "    </tr>\n",
       "    <tr>\n",
       "      <th>2</th>\n",
       "      <td>0020c2b971eb4e9188eac86d93036a77</td>\n",
       "      <td>168</td>\n",
       "      <td>ae264e3637204a6fb9bb56bc8210ddfd</td>\n",
       "      <td>5.0</td>\n",
       "      <td>0</td>\n",
       "      <td>0</td>\n",
       "      <td>1</td>\n",
       "      <td>failure</td>\n",
       "      <td>0</td>\n",
       "      <td>10</td>\n",
       "      <td>...</td>\n",
       "      <td>1</td>\n",
       "      <td>0</td>\n",
       "      <td>bogo_10_for_10_in_7days</td>\n",
       "      <td>1</td>\n",
       "      <td>0</td>\n",
       "      <td>0</td>\n",
       "      <td>F</td>\n",
       "      <td>59</td>\n",
       "      <td>90000.0</td>\n",
       "      <td>2945</td>\n",
       "    </tr>\n",
       "    <tr>\n",
       "      <th>3</th>\n",
       "      <td>0020c2b971eb4e9188eac86d93036a77</td>\n",
       "      <td>408</td>\n",
       "      <td>4d5c57ea9a6940dd891ad53e9dbe8da0</td>\n",
       "      <td>5.0</td>\n",
       "      <td>1</td>\n",
       "      <td>0</td>\n",
       "      <td>0</td>\n",
       "      <td>success</td>\n",
       "      <td>2</td>\n",
       "      <td>10</td>\n",
       "      <td>...</td>\n",
       "      <td>1</td>\n",
       "      <td>1</td>\n",
       "      <td>bogo_10_for_10_in_5days</td>\n",
       "      <td>1</td>\n",
       "      <td>0</td>\n",
       "      <td>0</td>\n",
       "      <td>F</td>\n",
       "      <td>59</td>\n",
       "      <td>90000.0</td>\n",
       "      <td>2945</td>\n",
       "    </tr>\n",
       "    <tr>\n",
       "      <th>4</th>\n",
       "      <td>0020ccbbb6d84e358d3414a3ff76cffd</td>\n",
       "      <td>336</td>\n",
       "      <td>f19421c1d4aa40978ebb69ca19b0e20d</td>\n",
       "      <td>4.0</td>\n",
       "      <td>1</td>\n",
       "      <td>0</td>\n",
       "      <td>0</td>\n",
       "      <td>success</td>\n",
       "      <td>2</td>\n",
       "      <td>5</td>\n",
       "      <td>...</td>\n",
       "      <td>1</td>\n",
       "      <td>1</td>\n",
       "      <td>bogo_5_for_5_in_5days</td>\n",
       "      <td>1</td>\n",
       "      <td>0</td>\n",
       "      <td>0</td>\n",
       "      <td>F</td>\n",
       "      <td>24</td>\n",
       "      <td>60000.0</td>\n",
       "      <td>2693</td>\n",
       "    </tr>\n",
       "  </tbody>\n",
       "</table>\n",
       "<p>5 rows × 25 columns</p>\n",
       "</div>"
      ],
      "text/plain": [
       "                        customer_id  time                          offer_id  \\\n",
       "0  0009655768c64bdeb2e877511632db8f   408  f19421c1d4aa40978ebb69ca19b0e20d   \n",
       "1  0011e0d4e6b944f998e987f904e8c1e5   504  9b98b8c7a33c4b65b9aebfe6a799e6d9   \n",
       "2  0020c2b971eb4e9188eac86d93036a77   168  ae264e3637204a6fb9bb56bc8210ddfd   \n",
       "3  0020c2b971eb4e9188eac86d93036a77   408  4d5c57ea9a6940dd891ad53e9dbe8da0   \n",
       "4  0020ccbbb6d84e358d3414a3ff76cffd   336  f19421c1d4aa40978ebb69ca19b0e20d   \n",
       "\n",
       "   num_offers  success  unviewed_success  failure           outcome  \\\n",
       "0         5.0        0                 1        0  unviewed success   \n",
       "1         5.0        1                 0        0           success   \n",
       "2         5.0        0                 0        1           failure   \n",
       "3         5.0        1                 0        0           success   \n",
       "4         4.0        1                 0        0           success   \n",
       "\n",
       "   outcome_factor  reward  ...  social  web                    offer  bogo  \\\n",
       "0               1       5  ...       1    1    bogo_5_for_5_in_5days     1   \n",
       "1               2       5  ...       0    1    bogo_5_for_5_in_7days     1   \n",
       "2               0      10  ...       1    0  bogo_10_for_10_in_7days     1   \n",
       "3               2      10  ...       1    1  bogo_10_for_10_in_5days     1   \n",
       "4               2       5  ...       1    1    bogo_5_for_5_in_5days     1   \n",
       "\n",
       "   discount  informational  gender age   income  membership_duration_days  \n",
       "0         0              0       M  33  72000.0                      2532  \n",
       "1         0              0       O  40  57000.0                      2269  \n",
       "2         0              0       F  59  90000.0                      2945  \n",
       "3         0              0       F  59  90000.0                      2945  \n",
       "4         0              0       F  24  60000.0                      2693  \n",
       "\n",
       "[5 rows x 25 columns]"
      ]
     },
     "execution_count": 517,
     "metadata": {},
     "output_type": "execute_result"
    }
   ],
   "source": [
    "# Filter and clean in a streamlined fashion\n",
    "bogo_discount_notcleaned = pd.concat([combined_df[combined_df['offer_type'] == 'bogo'],\n",
    "                                      combined_df[combined_df['offer_type'] == 'discount']])\n",
    "\n",
    "# Apply cleaning function directly within the concat function\n",
    "data_bogo_discount_df = pd.concat([offer_completion_evaluation(combined_df[combined_df['offer_type'] == 'bogo']),\n",
    "                           offer_completion_evaluation(combined_df[combined_df['offer_type'] == 'discount'])])\n",
    "\n",
    "data_bogo_discount_df.head()"
   ]
  },
  {
   "cell_type": "code",
   "execution_count": 518,
   "metadata": {},
   "outputs": [],
   "source": [
    "def clean_transaction_data(df):\n",
    "    \"\"\"\n",
    "    Cleans and transforms a dataframe containing transaction and offer events for further analysis.\n",
    "    \n",
    "    The function performs several operations to prepare the data for analysis:\n",
    "    - Sorts the dataframe by customer ID and time to ensure chronological order.\n",
    "    - Calculates the duration of offers in hours and assigns end times for offers based on their duration.\n",
    "    - Fills forward the end times within each customer group to account for ongoing offers.\n",
    "    - Identifies and flags transactions that occur within the valid offer period.\n",
    "    - Filters out transactions without associated offers.\n",
    "    - Aggregates transactions by customer and offer to summarize the total amount spent.\n",
    "    - Merges this summary back into the original dataset to associate offers with the total transaction amount.\n",
    "    - Adjusts amounts for offer viewed events to reflect the total spent on the associated offer.\n",
    "    - Removes unnecessary columns and recalculates some fields to finalize the dataset for analysis.\n",
    "    \n",
    "    Parameters:\n",
    "    - df (pandas.DataFrame): The input dataframe containing the transaction and offer data.\n",
    "    \n",
    "    Returns:\n",
    "    - pandas.DataFrame: A cleaned and transformed dataframe ready for analysis.\n",
    "    \"\"\"\n",
    "    \n",
    "    # Sort the dataframe by customer_id and time to ensure chronological processing\n",
    "    sorted_df = df.sort_values(['customer_id', 'time'])\n",
    "\n",
    "    # Calculate the duration of offers in hours\n",
    "    sorted_df = sorted_df.assign(duration_hrs=lambda x: x['duration'] * 24)\n",
    "\n",
    "    # Assign end times for offers and forward-fill within customer groups\n",
    "    sorted_df['end_time'] = np.where(sorted_df['event'] == 'offer received', sorted_df['time'] + sorted_df['duration_hrs'], np.nan)\n",
    "    sorted_df['end_time'] = sorted_df.groupby('customer_id')['end_time'].ffill()\n",
    "    \n",
    "    # Calculate remaining duration of offers and flag valid transactions\n",
    "    sorted_df['remaining'] = sorted_df['end_time'] - sorted_df['time']\n",
    "    sorted_df['offer'] = np.where((sorted_df['event'] == 'transaction') & (sorted_df['remaining'] >= 0), sorted_df.groupby('customer_id')['offer'].ffill(), sorted_df['offer'])\n",
    "\n",
    "    # Filter out transactions without associated offers\n",
    "    sorted_df = sorted_df.dropna(subset=['offer'])\n",
    "    \n",
    "    # Focus on relevant events and aggregate transaction amounts\n",
    "    relevant_events = sorted_df[sorted_df['event'].isin(['offer viewed', 'transaction'])]\n",
    "    relevant_events_sum = pd.DataFrame(relevant_events.groupby(['customer_id','offer'])['amount'].sum())\n",
    "    relevant_events_sum.rename(columns={'amount':'sum'}, inplace=True)\n",
    "    merged_df = pd.merge(relevant_events, relevant_events_sum, how='left', on=['customer_id','offer'])\n",
    "\n",
    "    # Adjust amounts for offer viewed events\n",
    "    merged_df['amount'] = np.where(merged_df['event']=='offer viewed', merged_df['sum'], merged_df['amount'])\n",
    "    sorted_df = sorted_df[sorted_df['event']=='offer received'].append(merged_df).sort_values(['customer_id','time'])\n",
    "    \n",
    "    # Final cleanup and transformation before analysis\n",
    "    sorted_df = sorted_df.drop(columns=['duration_hrs', 'end_time', 'remaining', 'sum'])\n",
    "\n",
    "    # Further data transformation steps\n",
    "    sorted_df = (\n",
    "        sorted_df\n",
    "        .query(\"event != 'transaction'\").assign(amount=lambda x: x.groupby(['customer_id', 'offer'])['amount'].shift(-1))\n",
    "        .query(\"event == 'offer received'\").fillna({'amount': 0})  # Fill NaN values in 'amount' with 0\n",
    "    )\n",
    "\n",
    "    # Add analysis-ready columns and merge additional customer profile information\n",
    "    sorted_df = (\n",
    "        sorted_df.assign(\n",
    "            success=lambda x: (x['amount'] > 0).astype(int),\n",
    "            unviewed_success=-99,\n",
    "            failure=-99,\n",
    "            outcome=-99,\n",
    "            outcome_factor=-99\n",
    "        )\n",
    "        .merge(profile_df, how='left', on='customer_id')  # Assumes profile_df is defined externally\n",
    "        .drop(columns=['event', 'became_member_on'])\n",
    "    )\n",
    "\n",
    "    return sorted_df"
   ]
  },
  {
   "cell_type": "code",
   "execution_count": 519,
   "metadata": {},
   "outputs": [],
   "source": [
    "prepared_trans_data_df = clean_transaction_data(combined_df.query(\"(offer_type == 'informational') or (event == 'transaction')\").copy())"
   ]
  },
  {
   "cell_type": "markdown",
   "metadata": {},
   "source": [
    "With the cleaning and enrichment of data across all offer types, incorporating a binary indicator for offer success, we can now consolidate this information into a unified dataset. This comprehensive dataset will serve as the foundation for constructing my classification model."
   ]
  },
  {
   "cell_type": "code",
   "execution_count": 522,
   "metadata": {},
   "outputs": [
    {
     "data": {
      "text/html": [
       "<div>\n",
       "<style scoped>\n",
       "    .dataframe tbody tr th:only-of-type {\n",
       "        vertical-align: middle;\n",
       "    }\n",
       "\n",
       "    .dataframe tbody tr th {\n",
       "        vertical-align: top;\n",
       "    }\n",
       "\n",
       "    .dataframe thead th {\n",
       "        text-align: right;\n",
       "    }\n",
       "</style>\n",
       "<table border=\"1\" class=\"dataframe\">\n",
       "  <thead>\n",
       "    <tr style=\"text-align: right;\">\n",
       "      <th></th>\n",
       "      <th>customer_id</th>\n",
       "      <th>time</th>\n",
       "      <th>offer_id</th>\n",
       "      <th>num_offers</th>\n",
       "      <th>success</th>\n",
       "      <th>unviewed_success</th>\n",
       "      <th>failure</th>\n",
       "      <th>outcome</th>\n",
       "      <th>outcome_factor</th>\n",
       "      <th>reward</th>\n",
       "      <th>...</th>\n",
       "      <th>discount</th>\n",
       "      <th>informational</th>\n",
       "      <th>gender</th>\n",
       "      <th>age</th>\n",
       "      <th>income</th>\n",
       "      <th>membership_duration_days</th>\n",
       "      <th>offer completed</th>\n",
       "      <th>offer received</th>\n",
       "      <th>offer viewed</th>\n",
       "      <th>transaction</th>\n",
       "    </tr>\n",
       "  </thead>\n",
       "  <tbody>\n",
       "    <tr>\n",
       "      <th>0</th>\n",
       "      <td>0009655768c64bdeb2e877511632db8f</td>\n",
       "      <td>408</td>\n",
       "      <td>f19421c1d4aa40978ebb69ca19b0e20d</td>\n",
       "      <td>5.0</td>\n",
       "      <td>0</td>\n",
       "      <td>1</td>\n",
       "      <td>0</td>\n",
       "      <td>unviewed success</td>\n",
       "      <td>1</td>\n",
       "      <td>5.0</td>\n",
       "      <td>...</td>\n",
       "      <td>0.0</td>\n",
       "      <td>0.0</td>\n",
       "      <td>M</td>\n",
       "      <td>33</td>\n",
       "      <td>72000.0</td>\n",
       "      <td>2532</td>\n",
       "      <td>0.0</td>\n",
       "      <td>0.0</td>\n",
       "      <td>0.0</td>\n",
       "      <td>0.0</td>\n",
       "    </tr>\n",
       "    <tr>\n",
       "      <th>1</th>\n",
       "      <td>0011e0d4e6b944f998e987f904e8c1e5</td>\n",
       "      <td>504</td>\n",
       "      <td>9b98b8c7a33c4b65b9aebfe6a799e6d9</td>\n",
       "      <td>5.0</td>\n",
       "      <td>1</td>\n",
       "      <td>0</td>\n",
       "      <td>0</td>\n",
       "      <td>success</td>\n",
       "      <td>2</td>\n",
       "      <td>5.0</td>\n",
       "      <td>...</td>\n",
       "      <td>0.0</td>\n",
       "      <td>0.0</td>\n",
       "      <td>O</td>\n",
       "      <td>40</td>\n",
       "      <td>57000.0</td>\n",
       "      <td>2269</td>\n",
       "      <td>0.0</td>\n",
       "      <td>0.0</td>\n",
       "      <td>0.0</td>\n",
       "      <td>0.0</td>\n",
       "    </tr>\n",
       "    <tr>\n",
       "      <th>2</th>\n",
       "      <td>0020c2b971eb4e9188eac86d93036a77</td>\n",
       "      <td>168</td>\n",
       "      <td>ae264e3637204a6fb9bb56bc8210ddfd</td>\n",
       "      <td>5.0</td>\n",
       "      <td>0</td>\n",
       "      <td>0</td>\n",
       "      <td>1</td>\n",
       "      <td>failure</td>\n",
       "      <td>0</td>\n",
       "      <td>10.0</td>\n",
       "      <td>...</td>\n",
       "      <td>0.0</td>\n",
       "      <td>0.0</td>\n",
       "      <td>F</td>\n",
       "      <td>59</td>\n",
       "      <td>90000.0</td>\n",
       "      <td>2945</td>\n",
       "      <td>0.0</td>\n",
       "      <td>0.0</td>\n",
       "      <td>0.0</td>\n",
       "      <td>0.0</td>\n",
       "    </tr>\n",
       "    <tr>\n",
       "      <th>3</th>\n",
       "      <td>0020c2b971eb4e9188eac86d93036a77</td>\n",
       "      <td>408</td>\n",
       "      <td>4d5c57ea9a6940dd891ad53e9dbe8da0</td>\n",
       "      <td>5.0</td>\n",
       "      <td>1</td>\n",
       "      <td>0</td>\n",
       "      <td>0</td>\n",
       "      <td>success</td>\n",
       "      <td>2</td>\n",
       "      <td>10.0</td>\n",
       "      <td>...</td>\n",
       "      <td>0.0</td>\n",
       "      <td>0.0</td>\n",
       "      <td>F</td>\n",
       "      <td>59</td>\n",
       "      <td>90000.0</td>\n",
       "      <td>2945</td>\n",
       "      <td>0.0</td>\n",
       "      <td>0.0</td>\n",
       "      <td>0.0</td>\n",
       "      <td>0.0</td>\n",
       "    </tr>\n",
       "    <tr>\n",
       "      <th>4</th>\n",
       "      <td>0020ccbbb6d84e358d3414a3ff76cffd</td>\n",
       "      <td>336</td>\n",
       "      <td>f19421c1d4aa40978ebb69ca19b0e20d</td>\n",
       "      <td>4.0</td>\n",
       "      <td>1</td>\n",
       "      <td>0</td>\n",
       "      <td>0</td>\n",
       "      <td>success</td>\n",
       "      <td>2</td>\n",
       "      <td>5.0</td>\n",
       "      <td>...</td>\n",
       "      <td>0.0</td>\n",
       "      <td>0.0</td>\n",
       "      <td>F</td>\n",
       "      <td>24</td>\n",
       "      <td>60000.0</td>\n",
       "      <td>2693</td>\n",
       "      <td>0.0</td>\n",
       "      <td>0.0</td>\n",
       "      <td>0.0</td>\n",
       "      <td>0.0</td>\n",
       "    </tr>\n",
       "  </tbody>\n",
       "</table>\n",
       "<p>5 rows × 29 columns</p>\n",
       "</div>"
      ],
      "text/plain": [
       "                        customer_id  time                          offer_id  \\\n",
       "0  0009655768c64bdeb2e877511632db8f   408  f19421c1d4aa40978ebb69ca19b0e20d   \n",
       "1  0011e0d4e6b944f998e987f904e8c1e5   504  9b98b8c7a33c4b65b9aebfe6a799e6d9   \n",
       "2  0020c2b971eb4e9188eac86d93036a77   168  ae264e3637204a6fb9bb56bc8210ddfd   \n",
       "3  0020c2b971eb4e9188eac86d93036a77   408  4d5c57ea9a6940dd891ad53e9dbe8da0   \n",
       "4  0020ccbbb6d84e358d3414a3ff76cffd   336  f19421c1d4aa40978ebb69ca19b0e20d   \n",
       "\n",
       "   num_offers  success  unviewed_success  failure           outcome  \\\n",
       "0         5.0        0                 1        0  unviewed success   \n",
       "1         5.0        1                 0        0           success   \n",
       "2         5.0        0                 0        1           failure   \n",
       "3         5.0        1                 0        0           success   \n",
       "4         4.0        1                 0        0           success   \n",
       "\n",
       "   outcome_factor  reward  ...  discount  informational gender  age   income  \\\n",
       "0               1     5.0  ...       0.0            0.0      M   33  72000.0   \n",
       "1               2     5.0  ...       0.0            0.0      O   40  57000.0   \n",
       "2               0    10.0  ...       0.0            0.0      F   59  90000.0   \n",
       "3               2    10.0  ...       0.0            0.0      F   59  90000.0   \n",
       "4               2     5.0  ...       0.0            0.0      F   24  60000.0   \n",
       "\n",
       "   membership_duration_days  offer completed offer received  offer viewed  \\\n",
       "0                      2532              0.0            0.0           0.0   \n",
       "1                      2269              0.0            0.0           0.0   \n",
       "2                      2945              0.0            0.0           0.0   \n",
       "3                      2945              0.0            0.0           0.0   \n",
       "4                      2693              0.0            0.0           0.0   \n",
       "\n",
       "   transaction  \n",
       "0          0.0  \n",
       "1          0.0  \n",
       "2          0.0  \n",
       "3          0.0  \n",
       "4          0.0  \n",
       "\n",
       "[5 rows x 29 columns]"
      ]
     },
     "execution_count": 522,
     "metadata": {},
     "output_type": "execute_result"
    }
   ],
   "source": [
    "prepared_data_df = data_bogo_discount_df.append(prepared_trans_data_df.drop(columns=['amount']))\n",
    "prepared_data_df=prepared_data_df.fillna(0)\n",
    "\n",
    "prepared_data_df.head()"
   ]
  },
  {
   "cell_type": "markdown",
   "metadata": {},
   "source": [
    "## Let's find out, what is the best offer type"
   ]
  },
  {
   "cell_type": "code",
   "execution_count": 537,
   "metadata": {},
   "outputs": [
    {
     "data": {
      "image/png": "[encoded data removed]",
      "text/plain": [
       "<Figure size 864x432 with 2 Axes>"
      ]
     },
     "metadata": {},
     "output_type": "display_data"
    }
   ],
   "source": [
    "offer_types = ['bogo', 'discount']\n",
    "\n",
    "# Set up the figure size and layout\n",
    "fig, axes = plt.subplots(1, len(offer_types), figsize=(len(offer_types)*6, 6))\n",
    "\n",
    "for ax, offer_type in zip(axes, offer_types):\n",
    "\n",
    "    if offer_type == 'informational':\n",
    "        pass\n",
    "    else:\n",
    "        # Filter the DataFrame by offer type\n",
    "        data = bogo_discount_notcleaned[bogo_discount_notcleaned['offer_type'] == offer_type]\n",
    "        \n",
    "        # Prepare data for pie chart\n",
    "        event_counts = data['event'].value_counts()\n",
    "        \n",
    "        # Plot pie chart\n",
    "        ax.pie(event_counts, labels=event_counts.index, autopct='%1.1f%%', startangle=140, colors=['skyblue', 'lightgreen', 'salmon'])\n",
    "        ax.set_title(f'Offer Type: {offer_type}')\n",
    "\n",
    "plt.suptitle('Event Distribution by Offer Type', fontsize=16)\n",
    "plt.show()\n"
   ]
  },
  {
   "cell_type": "code",
   "execution_count": 539,
   "metadata": {},
   "outputs": [
    {
     "data": {
      "image/png": "[encoded data removed]",
      "text/plain": [
       "<Figure size 460.8x288 with 2 Axes>"
      ]
     },
     "metadata": {},
     "output_type": "display_data"
    }
   ],
   "source": [
    "# Create a FacetGrid, using offer_type for each subplot\n",
    "g = sns.catplot(x='event', col='offer_type', data=bogo_discount_notcleaned, kind='count',\n",
    "                height=4, aspect=.8, palette='Set2')\n",
    "\n",
    "# Rotate x-axis labels for clarity\n",
    "g.set_xticklabels(rotation=45)\n",
    "\n",
    "# Set titles and labels\n",
    "g.set_titles('{col_name} Offer Type')\n",
    "g.set_axis_labels('Event', 'Count')\n",
    "\n",
    "# Adjust the title of the entire figure\n",
    "plt.subplots_adjust(top=0.85)\n",
    "g.fig.suptitle('Event Distribution by Offer Type', fontsize=16)\n",
    "\n",
    "plt.show()"
   ]
  },
  {
   "cell_type": "code",
   "execution_count": 541,
   "metadata": {},
   "outputs": [],
   "source": [
    "def counting_events(df):\n",
    "    \"\"\"\n",
    "    Generate counts of occurrences for each unique event in the dataframe.\n",
    "\n",
    "    Parameters:\n",
    "    - df (pd.DataFrame): The input dataframe containing an 'event' column.\n",
    "\n",
    "    Yields:\n",
    "    - int: Count of occurrences for each unique event in the input dataframe.\n",
    "    \"\"\"\n",
    "    event_counts = df['event'].value_counts().to_dict()\n",
    "    for event, count in event_counts.items():\n",
    "        yield (event, count)"
   ]
  },
  {
   "cell_type": "code",
   "execution_count": 548,
   "metadata": {},
   "outputs": [],
   "source": [
    "#event counts\n",
    "\n",
    "bogo_df = combined_df[combined_df['offer_type']=='bogo']\n",
    "discount_df = combined_df[combined_df['offer_type']=='discount']\n",
    "\n",
    "bogo_received, bogo_viewed, bogo_completed = counting_events(bogo_df)\n",
    "\n",
    "discount_received, discount_viewed, discount_completed = counting_events(discount_df)"
   ]
  },
  {
   "cell_type": "code",
   "execution_count": 554,
   "metadata": {},
   "outputs": [
    {
     "data": {
      "image/png": "[encoded data removed]",
      "text/plain": [
       "<Figure size 864x432 with 1 Axes>"
      ]
     },
     "metadata": {},
     "output_type": "display_data"
    }
   ],
   "source": [
    "labels = ['completed/received', 'viewed/received', 'completed/viewed']\n",
    "bogo_performance = [bogo_completed[1]/bogo_received[1], bogo_viewed[1]/bogo_received[1], bogo_completed[1]/bogo_viewed[1]]\n",
    "discount_performance = [discount_completed[1]/discount_received[1], discount_viewed[1]/discount_received[1], discount_completed[1]/discount_viewed[1]]\n",
    "\n",
    "x = np.arange(len(labels))  # the label locations\n",
    "width = 0.35  # the width of the bars\n",
    "\n",
    "fig, ax = plt.subplots(figsize=(12,6))\n",
    "rects1 = ax.bar(x - width/2, bogo_performance, width, label='BOGO')\n",
    "rects2 = ax.bar(x + width/2, discount_performance, width, label='discount')\n",
    "\n",
    "# Add some text for labels, title and custom x-axis tick labels, etc.\n",
    "ax.set_ylabel('Percentage')\n",
    "ax.set_title('Comparing the performance of BOGO and discount offer\\n', fontsize=16)\n",
    "ax.set_xticks(x)\n",
    "ax.set_xticklabels(labels)\n",
    "ax.legend()\n",
    "\n",
    "def autolabel(rects):\n",
    "    \"\"\"Attach a text label above each bar in *rects*, displaying its height.\"\"\"\n",
    "    for rect in rects:\n",
    "        height = rect.get_height()\n",
    "        ax.annotate('{}%'.format(round(height*100, 2)),\n",
    "                    xy=(rect.get_x() + rect.get_width() / 2, height),\n",
    "                    xytext=(0, 3),  # 3 points vertical offset\n",
    "                    textcoords=\"offset points\",\n",
    "                    ha='center', va='bottom')\n",
    "\n",
    "autolabel(rects1)\n",
    "autolabel(rects2)\n",
    "\n",
    "fig.tight_layout()\n",
    "plt.show()"
   ]
  },
  {
   "cell_type": "markdown",
   "metadata": {},
   "source": [
    "The efficacy of discount offers notably exceeds that of BOGO offers, highlighted by the subtly higher occurrence of 'offer completed' statuses and a completed-to-received ratio that is superior by roughly 7%. While BOGO offers are more likely to catch the attention of customers, discounts prove to be more efficient in converting received offers into completed ones."
   ]
  },
  {
   "cell_type": "markdown",
   "metadata": {},
   "source": [
    "The following assessment shows as well that discount has a higher success rate than bogo:"
   ]
  },
  {
   "cell_type": "code",
   "execution_count": 555,
   "metadata": {},
   "outputs": [
    {
     "data": {
      "text/html": [
       "<div>\n",
       "<style scoped>\n",
       "    .dataframe tbody tr th:only-of-type {\n",
       "        vertical-align: middle;\n",
       "    }\n",
       "\n",
       "    .dataframe tbody tr th {\n",
       "        vertical-align: top;\n",
       "    }\n",
       "\n",
       "    .dataframe thead th {\n",
       "        text-align: right;\n",
       "    }\n",
       "</style>\n",
       "<table border=\"1\" class=\"dataframe\">\n",
       "  <thead>\n",
       "    <tr style=\"text-align: right;\">\n",
       "      <th></th>\n",
       "      <th>offer</th>\n",
       "      <th>success</th>\n",
       "    </tr>\n",
       "  </thead>\n",
       "  <tbody>\n",
       "    <tr>\n",
       "      <th>4</th>\n",
       "      <td>discount_2_for_10_in_10days</td>\n",
       "      <td>0.691371</td>\n",
       "    </tr>\n",
       "    <tr>\n",
       "      <th>6</th>\n",
       "      <td>discount_3_for_7_in_7days</td>\n",
       "      <td>0.665214</td>\n",
       "    </tr>\n",
       "    <tr>\n",
       "      <th>8</th>\n",
       "      <td>informational_0_for_0_in_3days</td>\n",
       "      <td>0.640373</td>\n",
       "    </tr>\n",
       "    <tr>\n",
       "      <th>2</th>\n",
       "      <td>bogo_5_for_5_in_5days</td>\n",
       "      <td>0.563108</td>\n",
       "    </tr>\n",
       "    <tr>\n",
       "      <th>0</th>\n",
       "      <td>bogo_10_for_10_in_5days</td>\n",
       "      <td>0.457455</td>\n",
       "    </tr>\n",
       "    <tr>\n",
       "      <th>1</th>\n",
       "      <td>bogo_10_for_10_in_7days</td>\n",
       "      <td>0.435583</td>\n",
       "    </tr>\n",
       "    <tr>\n",
       "      <th>9</th>\n",
       "      <td>informational_0_for_0_in_4days</td>\n",
       "      <td>0.382605</td>\n",
       "    </tr>\n",
       "    <tr>\n",
       "      <th>3</th>\n",
       "      <td>bogo_5_for_5_in_7days</td>\n",
       "      <td>0.374869</td>\n",
       "    </tr>\n",
       "    <tr>\n",
       "      <th>5</th>\n",
       "      <td>discount_2_for_10_in_7days</td>\n",
       "      <td>0.367667</td>\n",
       "    </tr>\n",
       "    <tr>\n",
       "      <th>7</th>\n",
       "      <td>discount_5_for_20_in_10days</td>\n",
       "      <td>0.243533</td>\n",
       "    </tr>\n",
       "  </tbody>\n",
       "</table>\n",
       "</div>"
      ],
      "text/plain": [
       "                            offer   success\n",
       "4     discount_2_for_10_in_10days  0.691371\n",
       "6       discount_3_for_7_in_7days  0.665214\n",
       "8  informational_0_for_0_in_3days  0.640373\n",
       "2           bogo_5_for_5_in_5days  0.563108\n",
       "0         bogo_10_for_10_in_5days  0.457455\n",
       "1         bogo_10_for_10_in_7days  0.435583\n",
       "9  informational_0_for_0_in_4days  0.382605\n",
       "3           bogo_5_for_5_in_7days  0.374869\n",
       "5      discount_2_for_10_in_7days  0.367667\n",
       "7     discount_5_for_20_in_10days  0.243533"
      ]
     },
     "execution_count": 555,
     "metadata": {},
     "output_type": "execute_result"
    }
   ],
   "source": [
    "prepared_data_df.groupby('offer')['success'].mean().reset_index().sort_values(by='success', ascending=False)"
   ]
  },
  {
   "cell_type": "code",
   "execution_count": 514,
   "metadata": {},
   "outputs": [
    {
     "name": "stdout",
     "output_type": "stream",
     "text": [
      "True\n"
     ]
    }
   ],
   "source": [
    "# Assuming you have two DataFrames, df1 and df2\n",
    "are_identical = info_df.equals(info_cleaned)\n",
    "print(are_identical)"
   ]
  },
  {
   "cell_type": "markdown",
   "metadata": {},
   "source": [
    "## Prediction Model"
   ]
  },
  {
   "cell_type": "markdown",
   "metadata": {},
   "source": [
    "\n",
    "After conducting initial data examination and cleansing, while also addressing several queries, I am now poised to delve deeper into the dataset. The forthcoming step involves developing a straightforward machine learning model. This model aims to forecast the likelihood of offer success, utilizing both offer details and customer attributes as predictive variables.\n",
    "\n",
    "Evaluation Metrics employed in this context include the accuracy score and the ROC AUC score."
   ]
  },
  {
   "cell_type": "code",
   "execution_count": 563,
   "metadata": {},
   "outputs": [],
   "source": [
    "def build_classification_model(df, target, target_names, model=None):\n",
    "    \"\"\"\n",
    "    Constructs and evaluates a classification model using the provided dataset.\n",
    "\n",
    "    Parameters:\n",
    "    - df (DataFrame): The dataset for analysis.\n",
    "    - target (str): The name of the target variable.\n",
    "    - target_names (list): A list of labels for the target variable classes.\n",
    "    - model (sklearn estimator, optional): The machine learning model to be used. \n",
    "      Defaults to RandomForestClassifier with max_depth=20 and random_state=42.\n",
    "\n",
    "    Returns:\n",
    "    - The trained classification model.\n",
    "    \"\"\"\n",
    "    if model is None:\n",
    "        model = RandomForestClassifier(max_depth=20, random_state=42)\n",
    "    \n",
    "    # Preprocess the dataset\n",
    "    df_clean = df.dropna()\n",
    "    df_encoded = pd.get_dummies(df_clean, columns=['gender'], drop_first=True)\n",
    "    \n",
    "    excluded_columns = ['customer_id', 'offer_id', 'time', 'offer_type', 'offer', 'success',\n",
    "                        'unviewed_success', 'failure', 'outcome', 'outcome_factor',\n",
    "                        'offer completed', 'offer received', 'offer viewed', 'transaction']\n",
    "    X = df_encoded.drop(columns=excluded_columns + [target])\n",
    "    y = df_encoded[target]\n",
    "    \n",
    "    # Splitting the dataset\n",
    "    X_train, X_test, y_train, y_test = train_test_split(X, y, test_size=0.3, random_state=42)\n",
    "    \n",
    "    # Model training\n",
    "    model.fit(X_train, y_train)\n",
    "    \n",
    "    # Model evaluation\n",
    "    predictions = model.predict(X_test)\n",
    "    print(classification_report(y_test, predictions, target_names=target_names))\n",
    "    print(f\"Overall model accuracy: {accuracy_score(y_test, predictions):.4f}\")\n",
    "    \n",
    "    # AUC scores\n",
    "    train_probs = model.predict_proba(X_train)[:, 1]\n",
    "    test_probs = model.predict_proba(X_test)[:, 1]\n",
    "    print(f\"Train ROC AUC score: {roc_auc_score(y_train, train_probs):.4f}\")\n",
    "    print(f\"Test ROC AUC score: {roc_auc_score(y_test, test_probs):.4f}\")\n",
    "    \n",
    "    return model"
   ]
  },
  {
   "cell_type": "code",
   "execution_count": 565,
   "metadata": {},
   "outputs": [
    {
     "name": "stdout",
     "output_type": "stream",
     "text": [
      "              precision    recall  f1-score   support\n",
      "\n",
      "     Failure       0.72      0.71      0.71     10390\n",
      "     Success       0.69      0.69      0.69      9561\n",
      "\n",
      "    accuracy                           0.70     19951\n",
      "   macro avg       0.70      0.70      0.70     19951\n",
      "weighted avg       0.70      0.70      0.70     19951\n",
      "\n",
      "Overall model accuracy: 0.7033\n",
      "Train ROC AUC score: 0.9960\n",
      "Test ROC AUC score: 0.7683\n"
     ]
    }
   ],
   "source": [
    "random_forest_model = build_classification_model(df=prepared_data_df, \n",
    "                                                 target='success', \n",
    "                                                 target_names=['Failure', 'Success'])"
   ]
  },
  {
   "cell_type": "code",
   "execution_count": 567,
   "metadata": {},
   "outputs": [
    {
     "name": "stdout",
     "output_type": "stream",
     "text": [
      "              precision    recall  f1-score   support\n",
      "\n",
      "     Failure       0.69      0.71      0.70     10390\n",
      "     Success       0.68      0.66      0.67      9561\n",
      "\n",
      "    accuracy                           0.69     19951\n",
      "   macro avg       0.69      0.68      0.68     19951\n",
      "weighted avg       0.69      0.69      0.69     19951\n",
      "\n",
      "Overall model accuracy: 0.6857\n",
      "Train ROC AUC score: 0.7546\n",
      "Test ROC AUC score: 0.7527\n"
     ]
    }
   ],
   "source": [
    "gradient_boosting_model = GradientBoostingClassifier(random_state=42)\n",
    "\n",
    "model_gb = build_classification_model(df=prepared_data_df, \n",
    "                                      target='success', \n",
    "                                      target_names=['Failure', 'Success'],\n",
    "                                      model=gradient_boosting_model)"
   ]
  },
  {
   "cell_type": "code",
   "execution_count": 569,
   "metadata": {},
   "outputs": [
    {
     "name": "stdout",
     "output_type": "stream",
     "text": [
      "              precision    recall  f1-score   support\n",
      "\n",
      "     Failure       0.68      0.68      0.68     10390\n",
      "     Success       0.66      0.66      0.66      9561\n",
      "\n",
      "    accuracy                           0.67     19951\n",
      "   macro avg       0.67      0.67      0.67     19951\n",
      "weighted avg       0.67      0.67      0.67     19951\n",
      "\n",
      "Overall model accuracy: 0.6711\n",
      "Train ROC AUC score: 0.7296\n",
      "Test ROC AUC score: 0.7299\n"
     ]
    }
   ],
   "source": [
    "ada_boost_model = AdaBoostClassifier(random_state=42)\n",
    "\n",
    "# Call the updated and refactored function with the AdaBoost classifier\n",
    "overall_model = build_classification_model(df=prepared_data_df, \n",
    "                                           target='success', \n",
    "                                           target_names=['Failure', 'Success'],\n",
    "                                           model=ada_boost_model)"
   ]
  },
  {
   "cell_type": "code",
   "execution_count": 570,
   "metadata": {},
   "outputs": [
    {
     "data": {
      "text/plain": [
       "{'algorithm': 'SAMME.R',\n",
       " 'base_estimator': None,\n",
       " 'learning_rate': 1.0,\n",
       " 'n_estimators': 50,\n",
       " 'random_state': 42}"
      ]
     },
     "execution_count": 570,
     "metadata": {},
     "output_type": "execute_result"
    }
   ],
   "source": [
    "overall_model.get_params()"
   ]
  },
  {
   "cell_type": "markdown",
   "metadata": {},
   "source": [
    "### Optimize the model using GridSearchCV"
   ]
  },
  {
   "cell_type": "code",
   "execution_count": 572,
   "metadata": {},
   "outputs": [
    {
     "name": "stdout",
     "output_type": "stream",
     "text": [
      "Best parameters found:  {'algorithm': 'SAMME.R', 'learning_rate': 0.1, 'n_estimators': 500}\n"
     ]
    }
   ],
   "source": [
    "# Parameter grid for GridSearchCV\n",
    "param_grid = {\n",
    "    'n_estimators': [50, 100, 500],\n",
    "    'learning_rate': [0.1, 0.7, 1],\n",
    "    'algorithm': ['SAMME.R', 'SAMME']\n",
    "}\n",
    "\n",
    "# Preprocessing the data\n",
    "def preprocess_data(df):\n",
    "    \"\"\"\n",
    "    Preprocesses the given DataFrame by dropping missing values, encoding categorical variables,\n",
    "    and separating features from the target variable.\n",
    "    \n",
    "    Parameters:\n",
    "    - df (DataFrame): The dataset to preprocess.\n",
    "\n",
    "    Returns:\n",
    "    - X (DataFrame): The features matrix.\n",
    "    - y (Series): The target variable.\n",
    "    \"\"\"\n",
    "    df_prep = df.dropna()\n",
    "    df_encoded = pd.get_dummies(df_prep, columns=['gender'], drop_first=True)\n",
    "    \n",
    "    excluded_columns = ['customer_id', 'offer_id', 'time', 'offer_type', 'offer',\n",
    "                        'success', 'unviewed_success', 'failure', 'outcome', 'outcome_factor',\n",
    "                        'offer completed', 'offer received', 'offer viewed', 'transaction']\n",
    "    X = df_encoded.drop(columns=excluded_columns)\n",
    "    y = df_encoded['success']\n",
    "    \n",
    "    return X, y\n",
    "\n",
    "X, y = preprocess_data(prepared_data_df)\n",
    "\n",
    "# Splitting the dataset\n",
    "X_train, X_test, y_train, y_test = train_test_split(X, y, test_size=0.3, random_state=42)\n",
    "\n",
    "cv = GridSearchCV(overall_model, param_grid=param_grid, n_jobs=-1, scoring='roc_auc')\n",
    "\n",
    "# Fitting GridSearchCV\n",
    "best_model = cv.fit(X_train, y_train)\n",
    "\n",
    "# Extracting best parameters\n",
    "best_params = best_model.best_params_\n",
    "print(\"Best parameters found: \", best_params)\n"
   ]
  },
  {
   "cell_type": "code",
   "execution_count": 573,
   "metadata": {},
   "outputs": [
    {
     "name": "stdout",
     "output_type": "stream",
     "text": [
      "              precision    recall  f1-score   support\n",
      "\n",
      "     Failure       0.68      0.68      0.68     10390\n",
      "     Success       0.65      0.66      0.65      9561\n",
      "\n",
      "    accuracy                           0.67     19951\n",
      "   macro avg       0.67      0.67      0.67     19951\n",
      "weighted avg       0.67      0.67      0.67     19951\n",
      "\n",
      "Overall model accuracy: 0.6690\n",
      "Train ROC AUC score: 0.7295\n",
      "Test ROC AUC score: 0.7303\n"
     ]
    }
   ],
   "source": [
    "# Prepare the optimized AdaBoostClassifier model with specific hyperparameters\n",
    "optimized_model = AdaBoostClassifier(\n",
    "    n_estimators=500,\n",
    "    learning_rate=0.1,\n",
    "    algorithm='SAMME.R',\n",
    "    random_state=42\n",
    ")\n",
    "\n",
    "# Build and evaluate the model using the refactored function name and the optimized model\n",
    "final_model = build_classification_model(\n",
    "    df=prepared_data_df, \n",
    "    target='success', \n",
    "    target_names=['Failure', 'Success'],\n",
    "    model=optimized_model\n",
    ")"
   ]
  },
  {
   "cell_type": "markdown",
   "metadata": {},
   "source": [
    "The accuracy is slighly worse then model_gb, which is why model_gb will be used in the further analysis."
   ]
  },
  {
   "cell_type": "code",
   "execution_count": 577,
   "metadata": {},
   "outputs": [],
   "source": [
    "def identify_important_features(X, model):\n",
    "    \"\"\"\n",
    "    Identifies and visualizes the most important features used by the model.\n",
    "\n",
    "    Parameters:\n",
    "    - X (pd.DataFrame): The features DataFrame.\n",
    "    - model (model object): The trained classification model with feature_importances_ attribute.\n",
    "\n",
    "    Returns:\n",
    "    - pd.DataFrame: DataFrame containing features and their importance, sorted by importance.\n",
    "    \"\"\"\n",
    "    # Ensure the model has 'feature_importances_' attribute\n",
    "    if not hasattr(model, 'feature_importances_'):\n",
    "        raise ValueError(\"Model does not have feature importances attribute\")\n",
    "\n",
    "    # Create DataFrame of feature importances\n",
    "    feature_importances = pd.DataFrame(model.feature_importances_, index=X.columns, \n",
    "                                       columns=['importance']).sort_values('importance', ascending=False)\n",
    "\n",
    "    # Plotting\n",
    "    plt.figure(figsize=(12, 8))\n",
    "    sns.barplot(x='importance', y=feature_importances.index, data=feature_importances,\n",
    "                palette='coolwarm')  # Changed color palette to 'coolwarm'\n",
    "    plt.title('Feature Importance', fontsize=20)\n",
    "    plt.xlabel('Importance', fontsize=16)\n",
    "    plt.ylabel('Features', fontsize=16)\n",
    "    plt.grid(axis='x', linestyle='--', alpha=0.7)  # Added grid lines for better readability\n",
    "    plt.xticks(fontsize=14)\n",
    "    plt.yticks(fontsize=14)\n",
    "    plt.tight_layout()\n",
    "    plt.show()\n",
    "    \n",
    "    return feature_importances\n"
   ]
  },
  {
   "cell_type": "code",
   "execution_count": 578,
   "metadata": {},
   "outputs": [
    {
     "data": {
      "image/png": "[encoded data removed]",
      "text/plain": [
       "<Figure size 864x576 with 1 Axes>"
      ]
     },
     "metadata": {},
     "output_type": "display_data"
    }
   ],
   "source": [
    "important_features = identify_important_features(X_train, model_gb)"
   ]
  },
  {
   "cell_type": "markdown",
   "metadata": {},
   "source": [
    "As can be seen in the plot, membership_duration_days, social, income and reward are the most important features of the model"
   ]
  },
  {
   "cell_type": "code",
   "execution_count": 580,
   "metadata": {},
   "outputs": [],
   "source": [
    "average_success_rate = prepared_data_df.groupby('num_offers')['success'].mean()\n",
    "average_income_by_success = prepared_data_df.groupby('success')['income'].mean()\n",
    "average_success_by_social = prepared_data_df.groupby('social')['success'].mean()"
   ]
  },
  {
   "cell_type": "code",
   "execution_count": 585,
   "metadata": {},
   "outputs": [
    {
     "data": {
      "image/png": "[encoded data removed]",
      "text/plain": [
       "<Figure size 720x432 with 1 Axes>"
      ]
     },
     "metadata": {},
     "output_type": "display_data"
    }
   ],
   "source": [
    "average_success_rate.plot(kind='bar', figsize=(10, 6), color='skyblue')\n",
    "plt.title('Average Success Rate by Number of Offers')\n",
    "plt.xlabel('Number of Offers')\n",
    "plt.ylabel('Average Success Rate')\n",
    "plt.xticks(rotation=45)\n",
    "plt.show()"
   ]
  },
  {
   "cell_type": "markdown",
   "metadata": {},
   "source": [
    "Offers often achieve higher success rates when the total count of received offers is either exceptionally low or extremely high, indicating a U-shaped correlation. This pattern could merely be a matter of chance."
   ]
  },
  {
   "cell_type": "code",
   "execution_count": 586,
   "metadata": {},
   "outputs": [
    {
     "data": {
      "image/png": "[encoded data removed]",
      "text/plain": [
       "<Figure size 720x432 with 1 Axes>"
      ]
     },
     "metadata": {},
     "output_type": "display_data"
    }
   ],
   "source": [
    "average_income_by_success.plot(kind='bar', figsize=(10, 6), color='lightgreen')\n",
    "plt.title('Average Income by Success')\n",
    "plt.xlabel('Success')\n",
    "plt.ylabel('Average Income')\n",
    "plt.xticks(rotation=0)  # Adjust depending on your data\n",
    "plt.show()"
   ]
  },
  {
   "cell_type": "markdown",
   "metadata": {},
   "source": [
    "\n",
    "Members with higher incomes tend to experience a greater success rate with offers."
   ]
  },
  {
   "cell_type": "code",
   "execution_count": 587,
   "metadata": {},
   "outputs": [
    {
     "data": {
      "image/png": "[encoded data removed]",
      "text/plain": [
       "<Figure size 720x432 with 1 Axes>"
      ]
     },
     "metadata": {},
     "output_type": "display_data"
    }
   ],
   "source": [
    "average_success_by_social.plot(kind='bar', figsize=(10, 6), color='salmon')\n",
    "plt.title('Average Success Rate by Social Presence')\n",
    "plt.xlabel('Social Presence')\n",
    "plt.ylabel('Average Success Rate')\n",
    "plt.xticks(rotation=0)  # Adjust depending on your data\n",
    "plt.show()"
   ]
  },
  {
   "cell_type": "markdown",
   "metadata": {},
   "source": [
    "Offers disseminated through the 'social' channel often see increased rates of success."
   ]
  },
  {
   "cell_type": "markdown",
   "metadata": {},
   "source": [
    "## Summary\n",
    "\n",
    "### Findings\n",
    "\n",
    "The objective of this study was to determine the likelihood of offer acceptance utilizing the data provided on offers and customer demographics. A straightforward predictive model was developed, employing various classifiers including RandomForestClassifier, GradientBoostingClassifier, and AdaBoostClassifier, among which the AdaBoostClassifier emerged as the most effective for this scenario.\n",
    "\n",
    "The AdaBoostClassifier demonstrates the capability to forecast the successful completion of an offer by analyzing the traits of both the customer and the offer itself. Achieving an accuracy rate of 67%, the model presents a solid foundation for business applications, though it also highlights opportunities for further refinement.\n",
    "\n",
    "Key determinants influencing the success of an offer, as identified by the model, include:\n",
    "\n",
    "1. Length of membership\n",
    "2. Earnings\n",
    "3. Age\n",
    "4. Duration of the offer\n",
    "\n",
    "Throughout the process of model development, several questions were explored and addressed, such as:\n",
    "- Identifying the most effective offer:\n",
    "    - The discount offer outperforms the BOGO offer, not just in the sheer volume of 'offer completed' instances but also in a superior complete-to-receive ratio by approximately 7%. While BOGO offers are more frequently noticed by consumers, discounts are more likely to convert an offer from received to completed.\n",
    "- Determining who spends more, men or women?\n",
    "    - Analysis of the data reveals that women tend to spend more, providing valuable insight into customer targeting strategies for businesses like Starbucks.\n",
    "\n",
    "Suggestions for future enhancement include:\n",
    "\n",
    "- Investigating more advanced modeling techniques and algorithms to assess potential improvements in model accuracy.\n",
    "- Avoiding the exclusion of data entries with missing values in favor of implementing imputation methods could offer a pathway to further enhance model performance.\n"
   ]
  }
 ],
 "metadata": {
  "kernelspec": {
   "display_name": "\"Python/Mu (mu_venv-38-20210504-223934)\"",
   "language": "python",
   "name": "mu_venv-38-20210504-223934"
  }
 },
 "nbformat": 4,
 "nbformat_minor": 2
}
